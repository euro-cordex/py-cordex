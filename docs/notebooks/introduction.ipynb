{
 "cells": [
  {
   "cell_type": "markdown",
   "id": "0e348c73-a223-47e6-a056-b3af2be49631",
   "metadata": {
    "tags": []
   },
   "source": [
    "# CORDEX domains"
   ]
  },
  {
   "cell_type": "markdown",
   "id": "69c0a17f-5e7f-4f18-9c61-0096c3356f3a",
   "metadata": {},
   "source": [
    "The domain module should give some tools to work with preconfigured or user defined domains. Domains are defined as xarray datasets that will contain dimensions and coodinates according to CF-conventions.\n",
    "\n",
    "**NOTE**: The domain module mostly focuses on working with rotated cordex domains and how they are defined in the [cordex archive specifications](https://is-enes-data.github.io/cordex_archive_specifications.pdf). However, there are some regional models that use different mappings instead of `rotated_pole` or `rotated_latitude_longitude` which we focus on. Any expertise working with those different mappings is highly welcome!"
   ]
  },
  {
   "cell_type": "code",
   "execution_count": null,
   "id": "c2ccbd9e-906f-4a99-9cec-be224f3f6502",
   "metadata": {},
   "outputs": [],
   "source": [
    "import cordex as cx"
   ]
  },
  {
   "cell_type": "markdown",
   "id": "e15112e7-9dd1-4f37-9bc0-b7caba60ffbd",
   "metadata": {},
   "source": [
    "The domain module contains some useful functions to work with cordex meta data, e.g., you can get some domain grid information using"
   ]
  },
  {
   "cell_type": "code",
   "execution_count": null,
   "id": "995d8517-9542-42c0-87de-8a12a1e762b5",
   "metadata": {},
   "outputs": [],
   "source": [
    "cx.domain_info(\"EUR-11\")"
   ]
  },
  {
   "cell_type": "markdown",
   "id": "197d553d-2548-459b-b537-4d1d4eef22f3",
   "metadata": {},
   "source": [
    "All available cordex domains can be found in the [CORDEX domain table on github](https://github.com/WCRP-CORDEX/domain-tables) or directly from withing py-cordex, e.g."
   ]
  },
  {
   "cell_type": "code",
   "execution_count": null,
   "id": "53d177ac-07d2-42f2-9f50-23bcdd954faf",
   "metadata": {},
   "outputs": [],
   "source": [
    "cx.domains.table"
   ]
  }
 ],
 "metadata": {
  "kernelspec": {
   "display_name": "Python 3 (ipykernel)",
   "language": "python",
   "name": "python3"
  },
  "language_info": {
   "codemirror_mode": {
    "name": "ipython",
    "version": 3
   },
   "file_extension": ".py",
   "mimetype": "text/x-python",
   "name": "python",
   "nbconvert_exporter": "python",
   "pygments_lexer": "ipython3",
   "version": "3.9.10"
  }
 },
 "nbformat": 4,
 "nbformat_minor": 5
}
